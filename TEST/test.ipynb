{
 "cells": [
  {
   "cell_type": "code",
   "execution_count": 25,
   "metadata": {},
   "outputs": [],
   "source": [
    "import sympy as sp\n",
    "from scipy.optimize import fsolve"
   ]
  },
  {
   "cell_type": "code",
   "execution_count": 26,
   "metadata": {},
   "outputs": [
    {
     "data": {
      "text/plain": [
       "['P1', 'C1', 'O1', 'F1', 'M1', 'N1', 'F2', 'E2', 'C2', 'F3']"
      ]
     },
     "execution_count": 26,
     "metadata": {},
     "output_type": "execute_result"
    }
   ],
   "source": [
    "variable=['P1','C1','O1','F1','M1','N1','F2','E2','C2','F3']\n",
    "variable"
   ]
  },
  {
   "cell_type": "code",
   "execution_count": 27,
   "metadata": {},
   "outputs": [],
   "source": [
    "def equation(variable):\n",
    "    p1,c1,o1,F1,m1,n1,F2,e2,c2,F3=(variable[0],variable[1],variable[2],variable[3],variable[4],variable[5],variable[6],variable[7],variable[8],variable[9])\n",
    "    return[\n",
    "        m1*F2+0.1*F3-0.33*700,\n",
    "        0.06*F2+e2*F3-0.29*700,\n",
    "        0.30*F3-p1*700,\n",
    "        c2*F3-c1*700,\n",
    "        n1*F2-0.79*F1,\n",
    "        0.07*F2-o1*F1,\n",
    "        0.79+o1-1,\n",
    "        0.33+0.29+p1+c1-1,\n",
    "        m1+0.06+n1+0.07-1,\n",
    "        0.1+e2+0.3+c2-1\n",
    "    ]"
   ]
  },
  {
   "cell_type": "code",
   "execution_count": 28,
   "metadata": {},
   "outputs": [],
   "source": [
    "ans1=fsolve(equation,[0,0,0,0,0,0,0,0,0,0])"
   ]
  },
  {
   "cell_type": "code",
   "execution_count": 29,
   "metadata": {},
   "outputs": [
    {
     "data": {
      "text/plain": [
       "array([2.14814815e-01, 1.65185185e-01, 2.10000000e-01, 9.93827160e+01,\n",
       "       6.06666667e-01, 2.63333333e-01, 2.98148148e+02, 3.69310345e-01,\n",
       "       2.30689655e-01, 5.01234568e+02])"
      ]
     },
     "execution_count": 29,
     "metadata": {},
     "output_type": "execute_result"
    }
   ],
   "source": [
    "ans1"
   ]
  },
  {
   "cell_type": "code",
   "execution_count": 30,
   "metadata": {},
   "outputs": [
    {
     "name": "stdout",
     "output_type": "stream",
     "text": [
      "non-linear 700\n",
      "P1 = 0.2148148148335747\n",
      "C1 = 0.16518518516642525\n",
      "O1 = 0.2099999999999999\n",
      "F1 = 99.38271600865806\n",
      "M1 = 0.6066666666707597\n",
      "N1 = 0.26333333332924\n",
      "F2 = 298.14814802271565\n",
      "E2 = 0.3693103448257128\n",
      "C2 = 0.23068965517428716\n",
      "F3 = 501.23456794500765\n",
      "flow rate = 700 E mass flow rate= 5.192 (kg/hr)\n"
     ]
    }
   ],
   "source": [
    "print(\"non-linear 700\")\n",
    "for i in range(10):\n",
    "    print(variable[i],'=',ans1[i])\n",
    "print('flow rate = 700 E mass flow rate=',round(ans1[7]*ans1[9]*28.05/1000,3),'(kg/hr)')"
   ]
  },
  {
   "cell_type": "code",
   "execution_count": 31,
   "metadata": {},
   "outputs": [],
   "source": [
    "def q3_2(variable):\n",
    "\n",
    "    p1,c1,o1,F1,m1,n1,F2,e2,c2,F3=(variable[0],variable[1],variable[2],variable[3],variable[4],variable[5],variable[6],variable[7],variable[8],variable[9])\n",
    "\n",
    "    return[\n",
    "        m1*F2+0.1*F3-0.33*500,\n",
    "        0.06*F2+e2*F3-0.29*500,\n",
    "        0.30*F3-p1*500,\n",
    "        c2*F3-c1*500,\n",
    "        n1*F2-0.79*F1,\n",
    "        0.07*F2-o1*F1,\n",
    "        0.79+o1-1,\n",
    "        0.33+0.29+p1+c1-1,\n",
    "        m1+0.06+n1+0.07-1,\n",
    "        0.1+e2+0.3+c2-1\n",
    "    ]\n",
    "ans2=fsolve(q3_2,[0,0,0.2,0,0,0,0,0,0,0])"
   ]
  },
  {
   "cell_type": "code",
   "execution_count": 32,
   "metadata": {},
   "outputs": [
    {
     "name": "stdout",
     "output_type": "stream",
     "text": [
      "non-linear 500\n",
      "P1 = 0.21481481482699516\n",
      "C1 = 0.16518518517300487\n",
      "O1 = 0.20999999999999994\n",
      "F1 = 70.98765419034812\n",
      "M1 = 0.6066666670265549\n",
      "N1 = 0.26333333297344513\n",
      "F2 = 212.96296286420582\n",
      "E2 = 0.36931034455265227\n",
      "C2 = 0.23068965544734765\n",
      "F3 = 358.0246913783253\n",
      "flow rate = 500 E mass flow rate= 3.709 (kg/hr)\n"
     ]
    }
   ],
   "source": [
    "\n",
    "print(\"non-linear 500\")\n",
    "for i in range(10):\n",
    "    print(variable[i],'=',ans2[i])\n",
    "print('flow rate = 500 E mass flow rate=',round(ans2[7]*ans2[9]*28.05/1000,3),'(kg/hr)')"
   ]
  },
  {
   "cell_type": "code",
   "execution_count": 33,
   "metadata": {},
   "outputs": [],
   "source": [
    "\n",
    "#linear solution\n",
    "p1,c1,o1,F1,m1,n1,F2,e2,c2,F3=sp.symbols('p1,c1,o1,F1,m1,n1,F2,e2,c2,F3')\n",
    "ans3=sp.solve([m1 * F2 + 0.1 * F3 - 0.33 * 700,\n",
    "                 0.06 * F2 + e2 * F3 - 0.29 * 700,\n",
    "                 0.30 * F3 - p1 * 700,\n",
    "                 c2 * F3 - c1 * 700,\n",
    "                 n1 * F2 - 0.79 * F1,\n",
    "                 0.07 * F2 - o1 * F1,\n",
    "                 0.79 + o1 - 1,\n",
    "                 0.33 + 0.29 + p1 + c1 - 1,\n",
    "                 m1 + 0.06 + n1 + 0.07 - 1,\n",
    "                 0.1 + e2 + 0.3 + c2 - 1],[p1,c1,o1,F1,m1,n1,F2,e2,c2,F3])\n"
   ]
  },
  {
   "cell_type": "code",
   "execution_count": 34,
   "metadata": {},
   "outputs": [
    {
     "name": "stdout",
     "output_type": "stream",
     "text": [
      "linear 700\n",
      "P1 = 0.214814814814815\n",
      "C1 = 0.165185185185185\n",
      "O1 = 0.210000000000000\n",
      "F1 = 99.3827160493827\n",
      "M1 = 0.606666666666667\n",
      "N1 = 0.263333333333333\n",
      "F2 = 298.148148148148\n",
      "E2 = 0.369310344827586\n",
      "C2 = 0.230689655172414\n",
      "F3 = 501.234567901235\n",
      "flow rate = 700 E mass flow rate= 5.192 (kg/hr)\n"
     ]
    }
   ],
   "source": [
    "print(\"linear 700\")\n",
    "sol1=list(ans3[0])\n",
    "for i in range(10):\n",
    "    print(variable[i],'=',sol1[i])\n",
    "\n",
    "print('flow rate = 700 E mass flow rate=',round(sol1[7]*sol1[9]*28.05/1000,3),'(kg/hr)')"
   ]
  },
  {
   "cell_type": "code",
   "execution_count": 35,
   "metadata": {},
   "outputs": [],
   "source": [
    "\n",
    "p1,c1,o1,F1,m1,n1,F2,e2,c2,F3=sp.symbols('p1,c1,o1,F1,m1,n1,F2,e2,c2,F3')\n",
    "ans4=sp.solve([m1*F2+0.1*F3-0.33*500,\n",
    "        0.06*F2+e2*F3-0.29*500,\n",
    "        0.30*F3-p1*500,\n",
    "        c2*F3-c1*500,\n",
    "        n1*F2-0.79*F1,\n",
    "        0.07*F2-o1*F1,\n",
    "        0.79+o1-1,\n",
    "        0.33+0.29+p1+c1-1,\n",
    "        m1+0.06+n1+0.07-1,\n",
    "        0.1+e2+0.3+c2-1],[p1,c1,o1,F1,m1,n1,F2,e2,c2,F3])"
   ]
  },
  {
   "cell_type": "code",
   "execution_count": 36,
   "metadata": {},
   "outputs": [
    {
     "name": "stdout",
     "output_type": "stream",
     "text": [
      "linear 500\n",
      "P1 = 0.214814814814815\n",
      "C1 = 0.165185185185185\n",
      "O1 = 0.210000000000000\n",
      "F1 = 70.9876543209877\n",
      "M1 = 0.606666666666667\n",
      "N1 = 0.263333333333333\n",
      "F2 = 212.962962962963\n",
      "E2 = 0.369310344827586\n",
      "C2 = 0.230689655172414\n",
      "F3 = 358.024691358025\n",
      "flow rate = 500 E mass flow rate= 3.709 (kg/hr)\n"
     ]
    }
   ],
   "source": [
    "\n",
    "print(\"linear 500\")\n",
    "sol2=list(ans4[0])\n",
    "for i in range(10):\n",
    "    print(variable[i],'=',sol2[i])\n",
    "print('flow rate = 500 E mass flow rate=',round(sol2[7]*sol2[9]*28.05/1000,3),'(kg/hr)')"
   ]
  }
 ],
 "metadata": {
  "interpreter": {
   "hash": "0f2f6c680cf484319d387fabac80ca4ff4fc33965036e02100b3fe02600f1423"
  },
  "kernelspec": {
   "display_name": "Python 3.10.3 64-bit",
   "language": "python",
   "name": "python3"
  },
  "language_info": {
   "codemirror_mode": {
    "name": "ipython",
    "version": 3
   },
   "file_extension": ".py",
   "mimetype": "text/x-python",
   "name": "python",
   "nbconvert_exporter": "python",
   "pygments_lexer": "ipython3",
   "version": "3.10.3"
  },
  "orig_nbformat": 4
 },
 "nbformat": 4,
 "nbformat_minor": 2
}
